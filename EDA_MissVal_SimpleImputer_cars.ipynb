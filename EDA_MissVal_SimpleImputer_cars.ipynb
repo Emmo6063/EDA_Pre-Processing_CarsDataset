{
  "cells": [
    {
      "cell_type": "markdown",
      "source": [
        "In this Dataset we have details of cars of different brands and its prices varies as per different parameters as mentioned in the datasert. We will analyse this dataset and do Complete Exploratory Data Analysis & Pre-Processing and clean the data."
      ],
      "metadata": {
        "id": "lEtpvep0PZkZ"
      }
    },
    {
      "cell_type": "code",
      "execution_count": 22,
      "metadata": {
        "id": "Py5d804qrWlh"
      },
      "outputs": [],
      "source": [
        "import warnings\n",
        "warnings.filterwarnings(\"ignore\")\n",
        "\n",
        "import pandas as pd\n",
        "import numpy as np\n",
        "import matplotlib.pyplot as plt\n",
        "import seaborn as sns"
      ]
    },
    {
      "cell_type": "code",
      "execution_count": 23,
      "metadata": {
        "colab": {
          "base_uri": "https://localhost:8080/",
          "height": 250
        },
        "id": "vFazBfZNrhwP",
        "outputId": "bc382628-8ea4-4fbd-8696-281aabefd6b3"
      },
      "outputs": [
        {
          "output_type": "execute_result",
          "data": {
            "text/plain": [
              "   symboling normalized-losses         make fuel-type   body-style  \\\n",
              "0          3                 ?  alfa-romero       gas  convertible   \n",
              "1          3                 ?  alfa-romero       gas  convertible   \n",
              "2          1                 ?  alfa-romero       gas    hatchback   \n",
              "3          2               164         audi       gas        sedan   \n",
              "4          2               164         audi       gas        sedan   \n",
              "\n",
              "  drive-wheels engine-location  width  height engine-type  engine-size  \\\n",
              "0          rwd           front   64.1    48.8        dohc          130   \n",
              "1          rwd           front   64.1    48.8        dohc          130   \n",
              "2          rwd           front   65.5    52.4        ohcv          152   \n",
              "3          fwd           front   66.2    54.3         ohc          109   \n",
              "4          4wd           front   66.4    54.3         ohc          136   \n",
              "\n",
              "  horsepower  city-mpg  highway-mpg  price  \n",
              "0        111        21           27  13495  \n",
              "1        111        21           27  16500  \n",
              "2        154        19           26  16500  \n",
              "3        102        24           30  13950  \n",
              "4        115        18           22  17450  "
            ],
            "text/html": [
              "\n",
              "  <div id=\"df-83d3c326-ec1b-4a6c-8a71-09ff87eab7be\">\n",
              "    <div class=\"colab-df-container\">\n",
              "      <div>\n",
              "<style scoped>\n",
              "    .dataframe tbody tr th:only-of-type {\n",
              "        vertical-align: middle;\n",
              "    }\n",
              "\n",
              "    .dataframe tbody tr th {\n",
              "        vertical-align: top;\n",
              "    }\n",
              "\n",
              "    .dataframe thead th {\n",
              "        text-align: right;\n",
              "    }\n",
              "</style>\n",
              "<table border=\"1\" class=\"dataframe\">\n",
              "  <thead>\n",
              "    <tr style=\"text-align: right;\">\n",
              "      <th></th>\n",
              "      <th>symboling</th>\n",
              "      <th>normalized-losses</th>\n",
              "      <th>make</th>\n",
              "      <th>fuel-type</th>\n",
              "      <th>body-style</th>\n",
              "      <th>drive-wheels</th>\n",
              "      <th>engine-location</th>\n",
              "      <th>width</th>\n",
              "      <th>height</th>\n",
              "      <th>engine-type</th>\n",
              "      <th>engine-size</th>\n",
              "      <th>horsepower</th>\n",
              "      <th>city-mpg</th>\n",
              "      <th>highway-mpg</th>\n",
              "      <th>price</th>\n",
              "    </tr>\n",
              "  </thead>\n",
              "  <tbody>\n",
              "    <tr>\n",
              "      <th>0</th>\n",
              "      <td>3</td>\n",
              "      <td>?</td>\n",
              "      <td>alfa-romero</td>\n",
              "      <td>gas</td>\n",
              "      <td>convertible</td>\n",
              "      <td>rwd</td>\n",
              "      <td>front</td>\n",
              "      <td>64.1</td>\n",
              "      <td>48.8</td>\n",
              "      <td>dohc</td>\n",
              "      <td>130</td>\n",
              "      <td>111</td>\n",
              "      <td>21</td>\n",
              "      <td>27</td>\n",
              "      <td>13495</td>\n",
              "    </tr>\n",
              "    <tr>\n",
              "      <th>1</th>\n",
              "      <td>3</td>\n",
              "      <td>?</td>\n",
              "      <td>alfa-romero</td>\n",
              "      <td>gas</td>\n",
              "      <td>convertible</td>\n",
              "      <td>rwd</td>\n",
              "      <td>front</td>\n",
              "      <td>64.1</td>\n",
              "      <td>48.8</td>\n",
              "      <td>dohc</td>\n",
              "      <td>130</td>\n",
              "      <td>111</td>\n",
              "      <td>21</td>\n",
              "      <td>27</td>\n",
              "      <td>16500</td>\n",
              "    </tr>\n",
              "    <tr>\n",
              "      <th>2</th>\n",
              "      <td>1</td>\n",
              "      <td>?</td>\n",
              "      <td>alfa-romero</td>\n",
              "      <td>gas</td>\n",
              "      <td>hatchback</td>\n",
              "      <td>rwd</td>\n",
              "      <td>front</td>\n",
              "      <td>65.5</td>\n",
              "      <td>52.4</td>\n",
              "      <td>ohcv</td>\n",
              "      <td>152</td>\n",
              "      <td>154</td>\n",
              "      <td>19</td>\n",
              "      <td>26</td>\n",
              "      <td>16500</td>\n",
              "    </tr>\n",
              "    <tr>\n",
              "      <th>3</th>\n",
              "      <td>2</td>\n",
              "      <td>164</td>\n",
              "      <td>audi</td>\n",
              "      <td>gas</td>\n",
              "      <td>sedan</td>\n",
              "      <td>fwd</td>\n",
              "      <td>front</td>\n",
              "      <td>66.2</td>\n",
              "      <td>54.3</td>\n",
              "      <td>ohc</td>\n",
              "      <td>109</td>\n",
              "      <td>102</td>\n",
              "      <td>24</td>\n",
              "      <td>30</td>\n",
              "      <td>13950</td>\n",
              "    </tr>\n",
              "    <tr>\n",
              "      <th>4</th>\n",
              "      <td>2</td>\n",
              "      <td>164</td>\n",
              "      <td>audi</td>\n",
              "      <td>gas</td>\n",
              "      <td>sedan</td>\n",
              "      <td>4wd</td>\n",
              "      <td>front</td>\n",
              "      <td>66.4</td>\n",
              "      <td>54.3</td>\n",
              "      <td>ohc</td>\n",
              "      <td>136</td>\n",
              "      <td>115</td>\n",
              "      <td>18</td>\n",
              "      <td>22</td>\n",
              "      <td>17450</td>\n",
              "    </tr>\n",
              "  </tbody>\n",
              "</table>\n",
              "</div>\n",
              "      <button class=\"colab-df-convert\" onclick=\"convertToInteractive('df-83d3c326-ec1b-4a6c-8a71-09ff87eab7be')\"\n",
              "              title=\"Convert this dataframe to an interactive table.\"\n",
              "              style=\"display:none;\">\n",
              "        \n",
              "  <svg xmlns=\"http://www.w3.org/2000/svg\" height=\"24px\"viewBox=\"0 0 24 24\"\n",
              "       width=\"24px\">\n",
              "    <path d=\"M0 0h24v24H0V0z\" fill=\"none\"/>\n",
              "    <path d=\"M18.56 5.44l.94 2.06.94-2.06 2.06-.94-2.06-.94-.94-2.06-.94 2.06-2.06.94zm-11 1L8.5 8.5l.94-2.06 2.06-.94-2.06-.94L8.5 2.5l-.94 2.06-2.06.94zm10 10l.94 2.06.94-2.06 2.06-.94-2.06-.94-.94-2.06-.94 2.06-2.06.94z\"/><path d=\"M17.41 7.96l-1.37-1.37c-.4-.4-.92-.59-1.43-.59-.52 0-1.04.2-1.43.59L10.3 9.45l-7.72 7.72c-.78.78-.78 2.05 0 2.83L4 21.41c.39.39.9.59 1.41.59.51 0 1.02-.2 1.41-.59l7.78-7.78 2.81-2.81c.8-.78.8-2.07 0-2.86zM5.41 20L4 18.59l7.72-7.72 1.47 1.35L5.41 20z\"/>\n",
              "  </svg>\n",
              "      </button>\n",
              "      \n",
              "  <style>\n",
              "    .colab-df-container {\n",
              "      display:flex;\n",
              "      flex-wrap:wrap;\n",
              "      gap: 12px;\n",
              "    }\n",
              "\n",
              "    .colab-df-convert {\n",
              "      background-color: #E8F0FE;\n",
              "      border: none;\n",
              "      border-radius: 50%;\n",
              "      cursor: pointer;\n",
              "      display: none;\n",
              "      fill: #1967D2;\n",
              "      height: 32px;\n",
              "      padding: 0 0 0 0;\n",
              "      width: 32px;\n",
              "    }\n",
              "\n",
              "    .colab-df-convert:hover {\n",
              "      background-color: #E2EBFA;\n",
              "      box-shadow: 0px 1px 2px rgba(60, 64, 67, 0.3), 0px 1px 3px 1px rgba(60, 64, 67, 0.15);\n",
              "      fill: #174EA6;\n",
              "    }\n",
              "\n",
              "    [theme=dark] .colab-df-convert {\n",
              "      background-color: #3B4455;\n",
              "      fill: #D2E3FC;\n",
              "    }\n",
              "\n",
              "    [theme=dark] .colab-df-convert:hover {\n",
              "      background-color: #434B5C;\n",
              "      box-shadow: 0px 1px 3px 1px rgba(0, 0, 0, 0.15);\n",
              "      filter: drop-shadow(0px 1px 2px rgba(0, 0, 0, 0.3));\n",
              "      fill: #FFFFFF;\n",
              "    }\n",
              "  </style>\n",
              "\n",
              "      <script>\n",
              "        const buttonEl =\n",
              "          document.querySelector('#df-83d3c326-ec1b-4a6c-8a71-09ff87eab7be button.colab-df-convert');\n",
              "        buttonEl.style.display =\n",
              "          google.colab.kernel.accessAllowed ? 'block' : 'none';\n",
              "\n",
              "        async function convertToInteractive(key) {\n",
              "          const element = document.querySelector('#df-83d3c326-ec1b-4a6c-8a71-09ff87eab7be');\n",
              "          const dataTable =\n",
              "            await google.colab.kernel.invokeFunction('convertToInteractive',\n",
              "                                                     [key], {});\n",
              "          if (!dataTable) return;\n",
              "\n",
              "          const docLinkHtml = 'Like what you see? Visit the ' +\n",
              "            '<a target=\"_blank\" href=https://colab.research.google.com/notebooks/data_table.ipynb>data table notebook</a>'\n",
              "            + ' to learn more about interactive tables.';\n",
              "          element.innerHTML = '';\n",
              "          dataTable['output_type'] = 'display_data';\n",
              "          await google.colab.output.renderOutput(dataTable, element);\n",
              "          const docLink = document.createElement('div');\n",
              "          docLink.innerHTML = docLinkHtml;\n",
              "          element.appendChild(docLink);\n",
              "        }\n",
              "      </script>\n",
              "    </div>\n",
              "  </div>\n",
              "  "
            ]
          },
          "metadata": {},
          "execution_count": 23
        }
      ],
      "source": [
        "df = pd.read_csv(\"cars.csv\")\n",
        "df.head()"
      ]
    },
    {
      "cell_type": "code",
      "source": [
        "df.info()"
      ],
      "metadata": {
        "colab": {
          "base_uri": "https://localhost:8080/"
        },
        "id": "oZ6MtCNRf9ed",
        "outputId": "73e4c1e1-3726-49a9-dcbb-743147184b6c"
      },
      "execution_count": 24,
      "outputs": [
        {
          "output_type": "stream",
          "name": "stdout",
          "text": [
            "<class 'pandas.core.frame.DataFrame'>\n",
            "RangeIndex: 205 entries, 0 to 204\n",
            "Data columns (total 15 columns):\n",
            " #   Column             Non-Null Count  Dtype  \n",
            "---  ------             --------------  -----  \n",
            " 0   symboling          205 non-null    int64  \n",
            " 1   normalized-losses  205 non-null    object \n",
            " 2   make               205 non-null    object \n",
            " 3   fuel-type          205 non-null    object \n",
            " 4   body-style         205 non-null    object \n",
            " 5   drive-wheels       205 non-null    object \n",
            " 6   engine-location    205 non-null    object \n",
            " 7   width              205 non-null    float64\n",
            " 8   height             205 non-null    float64\n",
            " 9   engine-type        205 non-null    object \n",
            " 10  engine-size        205 non-null    int64  \n",
            " 11  horsepower         205 non-null    object \n",
            " 12  city-mpg           205 non-null    int64  \n",
            " 13  highway-mpg        205 non-null    int64  \n",
            " 14  price              205 non-null    int64  \n",
            "dtypes: float64(2), int64(5), object(8)\n",
            "memory usage: 24.1+ KB\n"
          ]
        }
      ]
    },
    {
      "cell_type": "code",
      "source": [
        "df[\"normalized-losses\"].value_counts()"
      ],
      "metadata": {
        "colab": {
          "base_uri": "https://localhost:8080/"
        },
        "id": "Io6RMvragGDC",
        "outputId": "3a807b69-6f66-4953-8b5e-834759129928"
      },
      "execution_count": 25,
      "outputs": [
        {
          "output_type": "execute_result",
          "data": {
            "text/plain": [
              "?      41\n",
              "161    11\n",
              "91      8\n",
              "150     7\n",
              "134     6\n",
              "128     6\n",
              "104     6\n",
              "85      5\n",
              "94      5\n",
              "65      5\n",
              "102     5\n",
              "74      5\n",
              "168     5\n",
              "103     5\n",
              "95      5\n",
              "106     4\n",
              "93      4\n",
              "118     4\n",
              "148     4\n",
              "122     4\n",
              "83      3\n",
              "125     3\n",
              "154     3\n",
              "115     3\n",
              "137     3\n",
              "101     3\n",
              "119     2\n",
              "87      2\n",
              "89      2\n",
              "192     2\n",
              "197     2\n",
              "158     2\n",
              "81      2\n",
              "188     2\n",
              "194     2\n",
              "153     2\n",
              "129     2\n",
              "108     2\n",
              "110     2\n",
              "164     2\n",
              "145     2\n",
              "113     2\n",
              "256     1\n",
              "107     1\n",
              "90      1\n",
              "231     1\n",
              "142     1\n",
              "121     1\n",
              "78      1\n",
              "98      1\n",
              "186     1\n",
              "77      1\n",
              "Name: normalized-losses, dtype: int64"
            ]
          },
          "metadata": {},
          "execution_count": 25
        }
      ]
    },
    {
      "cell_type": "markdown",
      "source": [
        "Above info shoows 41 instances of missing values in the form of \"?\""
      ],
      "metadata": {
        "id": "z5yi8UcNP9nz"
      }
    },
    {
      "cell_type": "code",
      "source": [
        "df[\"horsepower\"].value_counts()"
      ],
      "metadata": {
        "colab": {
          "base_uri": "https://localhost:8080/"
        },
        "id": "_wsglnPDghGd",
        "outputId": "61afd3b9-5c10-4452-f7e6-7cf2f4b77432"
      },
      "execution_count": 26,
      "outputs": [
        {
          "output_type": "execute_result",
          "data": {
            "text/plain": [
              "68     19\n",
              "70     11\n",
              "69     10\n",
              "116     9\n",
              "110     8\n",
              "95      7\n",
              "88      6\n",
              "62      6\n",
              "101     6\n",
              "160     6\n",
              "114     6\n",
              "84      5\n",
              "97      5\n",
              "102     5\n",
              "145     5\n",
              "82      5\n",
              "76      5\n",
              "111     4\n",
              "92      4\n",
              "123     4\n",
              "86      4\n",
              "90      3\n",
              "73      3\n",
              "85      3\n",
              "207     3\n",
              "182     3\n",
              "121     3\n",
              "152     3\n",
              "112     2\n",
              "56      2\n",
              "161     2\n",
              "156     2\n",
              "94      2\n",
              "52      2\n",
              "?       2\n",
              "162     2\n",
              "155     2\n",
              "184     2\n",
              "100     2\n",
              "176     2\n",
              "55      1\n",
              "262     1\n",
              "134     1\n",
              "115     1\n",
              "140     1\n",
              "48      1\n",
              "58      1\n",
              "60      1\n",
              "78      1\n",
              "135     1\n",
              "200     1\n",
              "64      1\n",
              "120     1\n",
              "72      1\n",
              "154     1\n",
              "288     1\n",
              "143     1\n",
              "142     1\n",
              "175     1\n",
              "106     1\n",
              "Name: horsepower, dtype: int64"
            ]
          },
          "metadata": {},
          "execution_count": 26
        }
      ]
    },
    {
      "cell_type": "markdown",
      "source": [
        "Above info shoows 2 instances of missing values in the form of \"?\""
      ],
      "metadata": {
        "id": "NN1wKWYHQIgg"
      }
    },
    {
      "cell_type": "markdown",
      "metadata": {
        "id": "uw3VMTVttZmu"
      },
      "source": [
        "Handling Missing Values with Simle Imputer"
      ]
    },
    {
      "cell_type": "code",
      "execution_count": 27,
      "metadata": {
        "id": "WOc59P6-tiCQ"
      },
      "outputs": [],
      "source": [
        "df[\"normalized-losses\"].replace(\"?\", np.nan, inplace=True)\n",
        "df[\"horsepower\"].replace(\"?\", np.nan, inplace=True)"
      ]
    },
    {
      "cell_type": "code",
      "execution_count": 28,
      "metadata": {
        "id": "Bg-GzUybsvX6"
      },
      "outputs": [],
      "source": [
        "from sklearn.impute import SimpleImputer\n",
        "si = SimpleImputer(missing_values=np.nan, strategy=\"mean\")\n",
        "df[[\"normalized-losses\", \"horsepower\"]] = si.fit_transform(df[[\"normalized-losses\", \"horsepower\"]])"
      ]
    },
    {
      "cell_type": "code",
      "execution_count": 32,
      "metadata": {
        "id": "agNSGAvytHUl"
      },
      "outputs": [],
      "source": [
        "features = df.iloc[:, :-1]\n",
        "target = df.iloc[:, -1]"
      ]
    },
    {
      "cell_type": "markdown",
      "source": [
        "Checking for Outliers"
      ],
      "metadata": {
        "id": "um2p6SFxhkK8"
      }
    },
    {
      "cell_type": "code",
      "execution_count": 41,
      "metadata": {
        "colab": {
          "base_uri": "https://localhost:8080/",
          "height": 388
        },
        "id": "agtZ7dhwumL8",
        "outputId": "aa16c359-3f65-4489-bb7c-b5b8b9819835"
      },
      "outputs": [
        {
          "output_type": "display_data",
          "data": {
            "text/plain": [
              "<Figure size 720x432 with 1 Axes>"
            ],
            "image/png": "[encoded data removed]"
          },
          "metadata": {
            "needs_background": "light"
          }
        }
      ],
      "source": [
        "plt.figure(figsize = (10,6))\n",
        "sns.boxplot(data = features, x = target, y = \"make\")\n",
        "plt.grid()"
      ]
    },
    {
      "cell_type": "markdown",
      "source": [
        "Handling Outliers"
      ],
      "metadata": {
        "id": "T1Kc-mAFh1bG"
      }
    },
    {
      "cell_type": "code",
      "execution_count": 61,
      "metadata": {
        "id": "Ee5KhsfFwN4O"
      },
      "outputs": [],
      "source": [
        "i = features[(features.make==\"dodge\")&(target>10000)].index\n",
        "features.drop(i, axis=0, inplace=True)\n",
        "\n",
        "i = features[(features.make==\"honda\")&(target>10000)].index\n",
        "features.drop(i, axis=0, inplace=True)\n",
        "\n",
        "i = features[(features.make==\"isuzu\")&(target>15000)].index\n",
        "features.drop(i, axis=0, inplace=True)\n",
        "\n",
        "i = features[(features.make==\"mitsubishi\")&(target>14000)].index\n",
        "features.drop(i, axis=0, inplace=True)\n",
        "\n",
        "i = features[(features.make==\"plymouth\")&(target>10000)].index\n",
        "features.drop(i, axis=0, inplace=True)\n",
        "\n",
        "i = features[(features.make==\"toyota\")&(target>15000)].index\n",
        "features.drop(i, axis=0, inplace=True)"
      ]
    },
    {
      "cell_type": "code",
      "execution_count": 43,
      "metadata": {
        "colab": {
          "base_uri": "https://localhost:8080/",
          "height": 388
        },
        "id": "opVoh9mBxOzi",
        "outputId": "faa157ba-6d01-4e7e-edbb-89154ff1ef82"
      },
      "outputs": [
        {
          "output_type": "display_data",
          "data": {
            "text/plain": [
              "<Figure size 720x432 with 1 Axes>"
            ],
            "image/png": "[encoded data removed]"
          },
          "metadata": {
            "needs_background": "light"
          }
        }
      ],
      "source": [
        "plt.figure(figsize = (10,6))\n",
        "sns.boxplot(data = features, x = target, y = \"make\")\n",
        "plt.grid()"
      ]
    },
    {
      "cell_type": "markdown",
      "source": [
        "Checking for & Removing Skewness"
      ],
      "metadata": {
        "id": "EiBPKifKKCAI"
      }
    },
    {
      "cell_type": "code",
      "source": [
        "colname = features.select_dtypes([\"int64\", \"float64\"]).columns"
      ],
      "metadata": {
        "id": "h0PQW4ykiG9d"
      },
      "execution_count": 44,
      "outputs": []
    },
    {
      "cell_type": "code",
      "source": [
        "colname"
      ],
      "metadata": {
        "colab": {
          "base_uri": "https://localhost:8080/"
        },
        "id": "9BjlHJXuKLIE",
        "outputId": "7ee85ab7-10d7-4879-e8c5-358d69ed40c5"
      },
      "execution_count": 45,
      "outputs": [
        {
          "output_type": "execute_result",
          "data": {
            "text/plain": [
              "Index(['symboling', 'normalized-losses', 'width', 'height', 'engine-size',\n",
              "       'horsepower', 'city-mpg', 'highway-mpg'],\n",
              "      dtype='object')"
            ]
          },
          "metadata": {},
          "execution_count": 45
        }
      ]
    },
    {
      "cell_type": "code",
      "source": [
        "from scipy.stats import skew"
      ],
      "metadata": {
        "id": "2tNStFEsKMtm"
      },
      "execution_count": 58,
      "outputs": []
    },
    {
      "cell_type": "code",
      "source": [
        "for col in features[colname]:\n",
        "  print(col)\n",
        "  print(skew(features[col]))\n",
        "  plt.figure()\n",
        "  sns.distplot(features[col])\n",
        "  plt.grid()"
      ],
      "metadata": {
        "colab": {
          "base_uri": "https://localhost:8080/",
          "height": 1000
        },
        "id": "RF_AzpFaKOup",
        "outputId": "3a6c07c3-0b33-4672-d4e5-4f4bad28d87e"
      },
      "execution_count": 47,
      "outputs": [
        {
          "output_type": "stream",
          "name": "stdout",
          "text": [
            "symboling\n",
            "0.20747173686867265\n",
            "normalized-losses\n",
            "0.8375438312442246\n",
            "width\n",
            "0.9227158641434647\n",
            "height\n",
            "0.005653273749726229\n",
            "engine-size\n",
            "2.03689013414227\n",
            "horsepower\n",
            "1.542680306160047\n",
            "city-mpg\n",
            "0.5998249503840676\n",
            "highway-mpg\n",
            "0.47835862387209765\n"
          ]
        },
        {
          "output_type": "display_data",
          "data": {
            "text/plain": [
              "<Figure size 432x288 with 1 Axes>"
            ],
            "image/png": "[encoded data removed]"
          },
          "metadata": {
            "needs_background": "light"
          }
        },
        {
          "output_type": "display_data",
          "data": {
            "text/plain": [
              "<Figure size 432x288 with 1 Axes>"
            ],
            "image/png": "[encoded data removed]"
          },
          "metadata": {
            "needs_background": "light"
          }
        },
        {
          "output_type": "display_data",
          "data": {
            "text/plain": [
              "<Figure size 432x288 with 1 Axes>"
            ],
            "image/png": "[encoded data removed]"
          },
          "metadata": {
            "needs_background": "light"
          }
        },
        {
          "output_type": "display_data",
          "data": {
            "text/plain": [
              "<Figure size 432x288 with 1 Axes>"
            ],
            "image/png": "[encoded data removed]"
          },
          "metadata": {
            "needs_background": "light"
          }
        },
        {
          "output_type": "display_data",
          "data": {
            "text/plain": [
              "<Figure size 432x288 with 1 Axes>"
            ],
            "image/png": "[encoded data removed]"
          },
          "metadata": {
            "needs_background": "light"
          }
        },
        {
          "output_type": "display_data",
          "data": {
            "text/plain": [
              "<Figure size 432x288 with 1 Axes>"
            ],
            "image/png": "[encoded data removed]"
          },
          "metadata": {
            "needs_background": "light"
          }
        },
        {
          "output_type": "display_data",
          "data": {
            "text/plain": [
              "<Figure size 432x288 with 1 Axes>"
            ],
            "image/png": "[encoded data removed]"
          },
          "metadata": {
            "needs_background": "light"
          }
        },
        {
          "output_type": "display_data",
          "data": {
            "text/plain": [
              "<Figure size 432x288 with 1 Axes>"
            ],
            "image/png": "[encoded data removed]"
          },
          "metadata": {
            "needs_background": "light"
          }
        }
      ]
    },
    {
      "cell_type": "code",
      "source": [
        "pd.concat([features, target], axis=1).corr().style.background_gradient()"
      ],
      "metadata": {
        "colab": {
          "base_uri": "https://localhost:8080/",
          "height": 331
        },
        "id": "dy_6ceQdKRMo",
        "outputId": "32b53210-75c8-4826-be55-84f92bee024c"
      },
      "execution_count": 48,
      "outputs": [
        {
          "output_type": "execute_result",
          "data": {
            "text/plain": [
              "<pandas.io.formats.style.Styler at 0x7f08cc1c86d0>"
            ],
            "text/html": [
              "<style type=\"text/css\">\n",
              "#T_7b359_row0_col0, #T_7b359_row1_col1, #T_7b359_row2_col2, #T_7b359_row3_col3, #T_7b359_row4_col4, #T_7b359_row5_col5, #T_7b359_row6_col6, #T_7b359_row7_col7, #T_7b359_row8_col8 {\n",
              "  background-color: #023858;\n",
              "  color: #f1f1f1;\n",
              "}\n",
              "#T_7b359_row0_col1 {\n",
              "  background-color: #4496c3;\n",
              "  color: #f1f1f1;\n",
              "}\n",
              "#T_7b359_row0_col2 {\n",
              "  background-color: #d3d4e7;\n",
              "  color: #000000;\n",
              "}\n",
              "#T_7b359_row0_col3, #T_7b359_row3_col0, #T_7b359_row3_col1, #T_7b359_row5_col6, #T_7b359_row5_col7, #T_7b359_row6_col5, #T_7b359_row7_col2, #T_7b359_row7_col4, #T_7b359_row7_col8 {\n",
              "  background-color: #fff7fb;\n",
              "  color: #000000;\n",
              "}\n",
              "#T_7b359_row0_col4 {\n",
              "  background-color: #bdc8e1;\n",
              "  color: #000000;\n",
              "}\n",
              "#T_7b359_row0_col5 {\n",
              "  background-color: #84b0d3;\n",
              "  color: #f1f1f1;\n",
              "}\n",
              "#T_7b359_row0_col6 {\n",
              "  background-color: #89b1d4;\n",
              "  color: #000000;\n",
              "}\n",
              "#T_7b359_row0_col7 {\n",
              "  background-color: #7bacd1;\n",
              "  color: #f1f1f1;\n",
              "}\n",
              "#T_7b359_row0_col8 {\n",
              "  background-color: #acc0dd;\n",
              "  color: #000000;\n",
              "}\n",
              "#T_7b359_row1_col0 {\n",
              "  background-color: #328dbf;\n",
              "  color: #f1f1f1;\n",
              "}\n",
              "#T_7b359_row1_col2, #T_7b359_row8_col3 {\n",
              "  background-color: #8cb3d5;\n",
              "  color: #000000;\n",
              "}\n",
              "#T_7b359_row1_col3 {\n",
              "  background-color: #f0eaf4;\n",
              "  color: #000000;\n",
              "}\n",
              "#T_7b359_row1_col4 {\n",
              "  background-color: #88b1d4;\n",
              "  color: #000000;\n",
              "}\n",
              "#T_7b359_row1_col5 {\n",
              "  background-color: #5ea0ca;\n",
              "  color: #f1f1f1;\n",
              "}\n",
              "#T_7b359_row1_col6 {\n",
              "  background-color: #b7c5df;\n",
              "  color: #000000;\n",
              "}\n",
              "#T_7b359_row1_col7 {\n",
              "  background-color: #b3c3de;\n",
              "  color: #000000;\n",
              "}\n",
              "#T_7b359_row1_col8 {\n",
              "  background-color: #78abd0;\n",
              "  color: #f1f1f1;\n",
              "}\n",
              "#T_7b359_row2_col0 {\n",
              "  background-color: #e5e1ef;\n",
              "  color: #000000;\n",
              "}\n",
              "#T_7b359_row2_col1 {\n",
              "  background-color: #bbc7e0;\n",
              "  color: #000000;\n",
              "}\n",
              "#T_7b359_row2_col3 {\n",
              "  background-color: #60a1ca;\n",
              "  color: #f1f1f1;\n",
              "}\n",
              "#T_7b359_row2_col4, #T_7b359_row2_col8, #T_7b359_row4_col2, #T_7b359_row8_col2 {\n",
              "  background-color: #046096;\n",
              "  color: #f1f1f1;\n",
              "}\n",
              "#T_7b359_row2_col5 {\n",
              "  background-color: #0567a1;\n",
              "  color: #f1f1f1;\n",
              "}\n",
              "#T_7b359_row2_col6, #T_7b359_row4_col6 {\n",
              "  background-color: #f2ecf5;\n",
              "  color: #000000;\n",
              "}\n",
              "#T_7b359_row2_col7 {\n",
              "  background-color: #f8f1f8;\n",
              "  color: #000000;\n",
              "}\n",
              "#T_7b359_row3_col2 {\n",
              "  background-color: #4a98c5;\n",
              "  color: #f1f1f1;\n",
              "}\n",
              "#T_7b359_row3_col4 {\n",
              "  background-color: #86b0d3;\n",
              "  color: #000000;\n",
              "}\n",
              "#T_7b359_row3_col5, #T_7b359_row3_col6, #T_7b359_row7_col0 {\n",
              "  background-color: #9cb9d9;\n",
              "  color: #000000;\n",
              "}\n",
              "#T_7b359_row3_col7, #T_7b359_row6_col0 {\n",
              "  background-color: #afc1dd;\n",
              "  color: #000000;\n",
              "}\n",
              "#T_7b359_row3_col8 {\n",
              "  background-color: #75a9cf;\n",
              "  color: #f1f1f1;\n",
              "}\n",
              "#T_7b359_row4_col0 {\n",
              "  background-color: #d2d3e7;\n",
              "  color: #000000;\n",
              "}\n",
              "#T_7b359_row4_col1 {\n",
              "  background-color: #b4c4df;\n",
              "  color: #000000;\n",
              "}\n",
              "#T_7b359_row4_col3, #T_7b359_row5_col1 {\n",
              "  background-color: #9ab8d8;\n",
              "  color: #000000;\n",
              "}\n",
              "#T_7b359_row4_col5 {\n",
              "  background-color: #045585;\n",
              "  color: #f1f1f1;\n",
              "}\n",
              "#T_7b359_row4_col7 {\n",
              "  background-color: #f7f0f7;\n",
              "  color: #000000;\n",
              "}\n",
              "#T_7b359_row4_col8 {\n",
              "  background-color: #034c78;\n",
              "  color: #f1f1f1;\n",
              "}\n",
              "#T_7b359_row5_col0 {\n",
              "  background-color: #abbfdc;\n",
              "  color: #000000;\n",
              "}\n",
              "#T_7b359_row5_col2 {\n",
              "  background-color: #0569a5;\n",
              "  color: #f1f1f1;\n",
              "}\n",
              "#T_7b359_row5_col3, #T_7b359_row6_col3 {\n",
              "  background-color: #c2cbe2;\n",
              "  color: #000000;\n",
              "}\n",
              "#T_7b359_row5_col4 {\n",
              "  background-color: #04588a;\n",
              "  color: #f1f1f1;\n",
              "}\n",
              "#T_7b359_row5_col8 {\n",
              "  background-color: #045b8f;\n",
              "  color: #f1f1f1;\n",
              "}\n",
              "#T_7b359_row6_col1 {\n",
              "  background-color: #ede8f3;\n",
              "  color: #000000;\n",
              "}\n",
              "#T_7b359_row6_col2, #T_7b359_row7_col5 {\n",
              "  background-color: #fcf4fa;\n",
              "  color: #000000;\n",
              "}\n",
              "#T_7b359_row6_col4, #T_7b359_row6_col8 {\n",
              "  background-color: #fdf5fa;\n",
              "  color: #000000;\n",
              "}\n",
              "#T_7b359_row6_col7, #T_7b359_row7_col6 {\n",
              "  background-color: #023c5f;\n",
              "  color: #f1f1f1;\n",
              "}\n",
              "#T_7b359_row7_col1 {\n",
              "  background-color: #e7e3f0;\n",
              "  color: #000000;\n",
              "}\n",
              "#T_7b359_row7_col3 {\n",
              "  background-color: #d1d2e6;\n",
              "  color: #000000;\n",
              "}\n",
              "#T_7b359_row8_col0 {\n",
              "  background-color: #c6cce3;\n",
              "  color: #000000;\n",
              "}\n",
              "#T_7b359_row8_col1 {\n",
              "  background-color: #a9bfdc;\n",
              "  color: #000000;\n",
              "}\n",
              "#T_7b359_row8_col4 {\n",
              "  background-color: #034d79;\n",
              "  color: #f1f1f1;\n",
              "}\n",
              "#T_7b359_row8_col5 {\n",
              "  background-color: #045a8d;\n",
              "  color: #f1f1f1;\n",
              "}\n",
              "#T_7b359_row8_col6 {\n",
              "  background-color: #f5eff6;\n",
              "  color: #000000;\n",
              "}\n",
              "#T_7b359_row8_col7 {\n",
              "  background-color: #faf3f9;\n",
              "  color: #000000;\n",
              "}\n",
              "</style>\n",
              "<table id=\"T_7b359_\" class=\"dataframe\">\n",
              "  <thead>\n",
              "    <tr>\n",
              "      <th class=\"blank level0\" >&nbsp;</th>\n",
              "      <th class=\"col_heading level0 col0\" >symboling</th>\n",
              "      <th class=\"col_heading level0 col1\" >normalized-losses</th>\n",
              "      <th class=\"col_heading level0 col2\" >width</th>\n",
              "      <th class=\"col_heading level0 col3\" >height</th>\n",
              "      <th class=\"col_heading level0 col4\" >engine-size</th>\n",
              "      <th class=\"col_heading level0 col5\" >horsepower</th>\n",
              "      <th class=\"col_heading level0 col6\" >city-mpg</th>\n",
              "      <th class=\"col_heading level0 col7\" >highway-mpg</th>\n",
              "      <th class=\"col_heading level0 col8\" >price</th>\n",
              "    </tr>\n",
              "  </thead>\n",
              "  <tbody>\n",
              "    <tr>\n",
              "      <th id=\"T_7b359_level0_row0\" class=\"row_heading level0 row0\" >symboling</th>\n",
              "      <td id=\"T_7b359_row0_col0\" class=\"data row0 col0\" >1.000000</td>\n",
              "      <td id=\"T_7b359_row0_col1\" class=\"data row0 col1\" >0.446728</td>\n",
              "      <td id=\"T_7b359_row0_col2\" class=\"data row0 col2\" >-0.279815</td>\n",
              "      <td id=\"T_7b359_row0_col3\" class=\"data row0 col3\" >-0.522524</td>\n",
              "      <td id=\"T_7b359_row0_col4\" class=\"data row0 col4\" >-0.154905</td>\n",
              "      <td id=\"T_7b359_row0_col5\" class=\"data row0 col5\" >0.025744</td>\n",
              "      <td id=\"T_7b359_row0_col6\" class=\"data row0 col6\" >0.008085</td>\n",
              "      <td id=\"T_7b359_row0_col7\" class=\"data row0 col7\" >0.085358</td>\n",
              "      <td id=\"T_7b359_row0_col8\" class=\"data row0 col8\" >-0.096957</td>\n",
              "    </tr>\n",
              "    <tr>\n",
              "      <th id=\"T_7b359_level0_row1\" class=\"row_heading level0 row1\" >normalized-losses</th>\n",
              "      <td id=\"T_7b359_row1_col0\" class=\"data row1 col0\" >0.446728</td>\n",
              "      <td id=\"T_7b359_row1_col1\" class=\"data row1 col1\" >1.000000</td>\n",
              "      <td id=\"T_7b359_row1_col2\" class=\"data row1 col2\" >0.057966</td>\n",
              "      <td id=\"T_7b359_row1_col3\" class=\"data row1 col3\" >-0.373463</td>\n",
              "      <td id=\"T_7b359_row1_col4\" class=\"data row1 col4\" >0.087528</td>\n",
              "      <td id=\"T_7b359_row1_col5\" class=\"data row1 col5\" >0.181530</td>\n",
              "      <td id=\"T_7b359_row1_col6\" class=\"data row1 col6\" >-0.211858</td>\n",
              "      <td id=\"T_7b359_row1_col7\" class=\"data row1 col7\" >-0.167847</td>\n",
              "      <td id=\"T_7b359_row1_col8\" class=\"data row1 col8\" >0.127657</td>\n",
              "    </tr>\n",
              "    <tr>\n",
              "      <th id=\"T_7b359_level0_row2\" class=\"row_heading level0 row2\" >width</th>\n",
              "      <td id=\"T_7b359_row2_col0\" class=\"data row2 col0\" >-0.279815</td>\n",
              "      <td id=\"T_7b359_row2_col1\" class=\"data row2 col1\" >0.057966</td>\n",
              "      <td id=\"T_7b359_row2_col2\" class=\"data row2 col2\" >1.000000</td>\n",
              "      <td id=\"T_7b359_row2_col3\" class=\"data row2 col3\" >0.300101</td>\n",
              "      <td id=\"T_7b359_row2_col4\" class=\"data row2 col4\" >0.737350</td>\n",
              "      <td id=\"T_7b359_row2_col5\" class=\"data row2 col5\" >0.644893</td>\n",
              "      <td id=\"T_7b359_row2_col6\" class=\"data row2 col6\" >-0.643574</td>\n",
              "      <td id=\"T_7b359_row2_col7\" class=\"data row2 col7\" >-0.679967</td>\n",
              "      <td id=\"T_7b359_row2_col8\" class=\"data row2 col8\" >0.732833</td>\n",
              "    </tr>\n",
              "    <tr>\n",
              "      <th id=\"T_7b359_level0_row3\" class=\"row_heading level0 row3\" >height</th>\n",
              "      <td id=\"T_7b359_row3_col0\" class=\"data row3 col0\" >-0.522524</td>\n",
              "      <td id=\"T_7b359_row3_col1\" class=\"data row3 col1\" >-0.373463</td>\n",
              "      <td id=\"T_7b359_row3_col2\" class=\"data row3 col2\" >0.300101</td>\n",
              "      <td id=\"T_7b359_row3_col3\" class=\"data row3 col3\" >1.000000</td>\n",
              "      <td id=\"T_7b359_row3_col4\" class=\"data row3 col4\" >0.094416</td>\n",
              "      <td id=\"T_7b359_row3_col5\" class=\"data row3 col5\" >-0.078694</td>\n",
              "      <td id=\"T_7b359_row3_col6\" class=\"data row3 col6\" >-0.079620</td>\n",
              "      <td id=\"T_7b359_row3_col7\" class=\"data row3 col7\" >-0.143610</td>\n",
              "      <td id=\"T_7b359_row3_col8\" class=\"data row3 col8\" >0.145765</td>\n",
              "    </tr>\n",
              "    <tr>\n",
              "      <th id=\"T_7b359_level0_row4\" class=\"row_heading level0 row4\" >engine-size</th>\n",
              "      <td id=\"T_7b359_row4_col0\" class=\"data row4 col0\" >-0.154905</td>\n",
              "      <td id=\"T_7b359_row4_col1\" class=\"data row4 col1\" >0.087528</td>\n",
              "      <td id=\"T_7b359_row4_col2\" class=\"data row4 col2\" >0.737350</td>\n",
              "      <td id=\"T_7b359_row4_col3\" class=\"data row4 col3\" >0.094416</td>\n",
              "      <td id=\"T_7b359_row4_col4\" class=\"data row4 col4\" >1.000000</td>\n",
              "      <td id=\"T_7b359_row4_col5\" class=\"data row4 col5\" >0.803978</td>\n",
              "      <td id=\"T_7b359_row4_col6\" class=\"data row4 col6\" >-0.642932</td>\n",
              "      <td id=\"T_7b359_row4_col7\" class=\"data row4 col7\" >-0.667136</td>\n",
              "      <td id=\"T_7b359_row4_col8\" class=\"data row4 col8\" >0.869468</td>\n",
              "    </tr>\n",
              "    <tr>\n",
              "      <th id=\"T_7b359_level0_row5\" class=\"row_heading level0 row5\" >horsepower</th>\n",
              "      <td id=\"T_7b359_row5_col0\" class=\"data row5 col0\" >0.025744</td>\n",
              "      <td id=\"T_7b359_row5_col1\" class=\"data row5 col1\" >0.181530</td>\n",
              "      <td id=\"T_7b359_row5_col2\" class=\"data row5 col2\" >0.644893</td>\n",
              "      <td id=\"T_7b359_row5_col3\" class=\"data row5 col3\" >-0.078694</td>\n",
              "      <td id=\"T_7b359_row5_col4\" class=\"data row5 col4\" >0.803978</td>\n",
              "      <td id=\"T_7b359_row5_col5\" class=\"data row5 col5\" >1.000000</td>\n",
              "      <td id=\"T_7b359_row5_col6\" class=\"data row5 col6\" >-0.797159</td>\n",
              "      <td id=\"T_7b359_row5_col7\" class=\"data row5 col7\" >-0.760894</td>\n",
              "      <td id=\"T_7b359_row5_col8\" class=\"data row5 col8\" >0.768885</td>\n",
              "    </tr>\n",
              "    <tr>\n",
              "      <th id=\"T_7b359_level0_row6\" class=\"row_heading level0 row6\" >city-mpg</th>\n",
              "      <td id=\"T_7b359_row6_col0\" class=\"data row6 col0\" >0.008085</td>\n",
              "      <td id=\"T_7b359_row6_col1\" class=\"data row6 col1\" >-0.211858</td>\n",
              "      <td id=\"T_7b359_row6_col2\" class=\"data row6 col2\" >-0.643574</td>\n",
              "      <td id=\"T_7b359_row6_col3\" class=\"data row6 col3\" >-0.079620</td>\n",
              "      <td id=\"T_7b359_row6_col4\" class=\"data row6 col4\" >-0.642932</td>\n",
              "      <td id=\"T_7b359_row6_col5\" class=\"data row6 col5\" >-0.797159</td>\n",
              "      <td id=\"T_7b359_row6_col6\" class=\"data row6 col6\" >1.000000</td>\n",
              "      <td id=\"T_7b359_row6_col7\" class=\"data row6 col7\" >0.970119</td>\n",
              "      <td id=\"T_7b359_row6_col8\" class=\"data row6 col8\" >-0.680615</td>\n",
              "    </tr>\n",
              "    <tr>\n",
              "      <th id=\"T_7b359_level0_row7\" class=\"row_heading level0 row7\" >highway-mpg</th>\n",
              "      <td id=\"T_7b359_row7_col0\" class=\"data row7 col0\" >0.085358</td>\n",
              "      <td id=\"T_7b359_row7_col1\" class=\"data row7 col1\" >-0.167847</td>\n",
              "      <td id=\"T_7b359_row7_col2\" class=\"data row7 col2\" >-0.679967</td>\n",
              "      <td id=\"T_7b359_row7_col3\" class=\"data row7 col3\" >-0.143610</td>\n",
              "      <td id=\"T_7b359_row7_col4\" class=\"data row7 col4\" >-0.667136</td>\n",
              "      <td id=\"T_7b359_row7_col5\" class=\"data row7 col5\" >-0.760894</td>\n",
              "      <td id=\"T_7b359_row7_col6\" class=\"data row7 col6\" >0.970119</td>\n",
              "      <td id=\"T_7b359_row7_col7\" class=\"data row7 col7\" >1.000000</td>\n",
              "      <td id=\"T_7b359_row7_col8\" class=\"data row7 col8\" >-0.704903</td>\n",
              "    </tr>\n",
              "    <tr>\n",
              "      <th id=\"T_7b359_level0_row8\" class=\"row_heading level0 row8\" >price</th>\n",
              "      <td id=\"T_7b359_row8_col0\" class=\"data row8 col0\" >-0.096957</td>\n",
              "      <td id=\"T_7b359_row8_col1\" class=\"data row8 col1\" >0.127657</td>\n",
              "      <td id=\"T_7b359_row8_col2\" class=\"data row8 col2\" >0.732833</td>\n",
              "      <td id=\"T_7b359_row8_col3\" class=\"data row8 col3\" >0.145765</td>\n",
              "      <td id=\"T_7b359_row8_col4\" class=\"data row8 col4\" >0.869468</td>\n",
              "      <td id=\"T_7b359_row8_col5\" class=\"data row8 col5\" >0.768885</td>\n",
              "      <td id=\"T_7b359_row8_col6\" class=\"data row8 col6\" >-0.680615</td>\n",
              "      <td id=\"T_7b359_row8_col7\" class=\"data row8 col7\" >-0.704903</td>\n",
              "      <td id=\"T_7b359_row8_col8\" class=\"data row8 col8\" >1.000000</td>\n",
              "    </tr>\n",
              "  </tbody>\n",
              "</table>\n"
            ]
          },
          "metadata": {},
          "execution_count": 48
        }
      ]
    },
    {
      "cell_type": "code",
      "source": [
        "pd.concat([features, target], axis=1).corr()[\"price\"].sort_values()"
      ],
      "metadata": {
        "colab": {
          "base_uri": "https://localhost:8080/"
        },
        "id": "_MmjUKvzKXIB",
        "outputId": "7e5c50e6-698d-454a-e889-15cf94c2ec0e"
      },
      "execution_count": 49,
      "outputs": [
        {
          "output_type": "execute_result",
          "data": {
            "text/plain": [
              "highway-mpg         -0.704903\n",
              "city-mpg            -0.680615\n",
              "symboling           -0.096957\n",
              "normalized-losses    0.127657\n",
              "height               0.145765\n",
              "width                0.732833\n",
              "horsepower           0.768885\n",
              "engine-size          0.869468\n",
              "price                1.000000\n",
              "Name: price, dtype: float64"
            ]
          },
          "metadata": {},
          "execution_count": 49
        }
      ]
    },
    {
      "cell_type": "markdown",
      "source": [
        "- Above values shows that except height column, all other columns are skewd which we should remove, but we need to check following before removing them\n",
        "  - If the columns which has skewness is showing good correlation with the target, do not remove skewness\n",
        "  - If the columns which has skewness has some negative values, do not remove skewness (since log and sqrt value of -ve number is nan and we have 2 methods of removing skeweness i.e. logarithmic method or square root method)"
      ],
      "metadata": {
        "id": "5rnSBtSrKhPO"
      }
    },
    {
      "cell_type": "markdown",
      "source": [
        "- From above correlations and pointers we conclude that we need to remove skewness from \"symboling\" & \"normalized-losses\" which has less correlation (since height is very less skewed, or not skewed). But, symboling has -ve values hence not removing its skewness"
      ],
      "metadata": {
        "id": "EaxTuQ0jKo0l"
      }
    },
    {
      "cell_type": "markdown",
      "source": [
        "**Removing skewness using logarithmic method**\n",
        "- since log of any number is lesser than sqrt, hence we get lesser skewness"
      ],
      "metadata": {
        "id": "g793Q9lEK-8r"
      }
    },
    {
      "cell_type": "code",
      "source": [
        "features[\"normalized-losses\"] = np.log(features[\"normalized-losses\"])\n",
        "features[\"normalized-losses\"]"
      ],
      "metadata": {
        "colab": {
          "base_uri": "https://localhost:8080/"
        },
        "id": "39296Il5KbV5",
        "outputId": "8c688d3b-9fd7-4c73-dbc1-33c8380ccd93"
      },
      "execution_count": 52,
      "outputs": [
        {
          "output_type": "execute_result",
          "data": {
            "text/plain": [
              "0      4.804021\n",
              "1      4.804021\n",
              "2      4.804021\n",
              "3      5.099866\n",
              "4      5.099866\n",
              "         ...   \n",
              "200    4.553877\n",
              "201    4.553877\n",
              "202    4.553877\n",
              "203    4.553877\n",
              "204    4.553877\n",
              "Name: normalized-losses, Length: 192, dtype: float64"
            ]
          },
          "metadata": {},
          "execution_count": 52
        }
      ]
    },
    {
      "cell_type": "code",
      "source": [
        "skew(features[\"normalized-losses\"])"
      ],
      "metadata": {
        "colab": {
          "base_uri": "https://localhost:8080/"
        },
        "id": "kfAk0BdjKz6p",
        "outputId": "cd2a5dcd-9f22-4850-c26d-b020950faf50"
      },
      "execution_count": 53,
      "outputs": [
        {
          "output_type": "execute_result",
          "data": {
            "text/plain": [
              "0.004020880712921842"
            ]
          },
          "metadata": {},
          "execution_count": 53
        }
      ]
    },
    {
      "cell_type": "markdown",
      "source": [
        "- Thus skewness reuced from 0.84 to 0.004"
      ],
      "metadata": {
        "id": "AckF-ctOLJ5I"
      }
    },
    {
      "cell_type": "markdown",
      "source": [
        "Handling Categorical Data\n",
        "- The process of converting categorical data into numerical data is called encoding"
      ],
      "metadata": {
        "id": "liR0quNoLMov"
      }
    },
    {
      "cell_type": "code",
      "source": [
        "catcol = features.select_dtypes(object).columns"
      ],
      "metadata": {
        "id": "QDaDoKICLE7w"
      },
      "execution_count": 55,
      "outputs": []
    },
    {
      "cell_type": "code",
      "source": [
        "from sklearn.preprocessing import OrdinalEncoder\n",
        "oe = OrdinalEncoder()\n",
        "features[catcol] = oe.fit_transform(features[catcol])"
      ],
      "metadata": {
        "id": "4ClUsa2VLPCs"
      },
      "execution_count": 56,
      "outputs": []
    },
    {
      "cell_type": "code",
      "source": [
        "features"
      ],
      "metadata": {
        "colab": {
          "base_uri": "https://localhost:8080/",
          "height": 423
        },
        "id": "KXjuduMqLZyB",
        "outputId": "9671d1fa-879a-4423-ed59-eb6f0d6ebddb"
      },
      "execution_count": 57,
      "outputs": [
        {
          "output_type": "execute_result",
          "data": {
            "text/plain": [
              "     symboling  normalized-losses  make  fuel-type  body-style  drive-wheels  \\\n",
              "0            3           4.804021   0.0        1.0         0.0           2.0   \n",
              "1            3           4.804021   0.0        1.0         0.0           2.0   \n",
              "2            1           4.804021   0.0        1.0         2.0           2.0   \n",
              "3            2           5.099866   1.0        1.0         3.0           1.0   \n",
              "4            2           5.099866   1.0        1.0         3.0           0.0   \n",
              "..         ...                ...   ...        ...         ...           ...   \n",
              "200         -1           4.553877  21.0        1.0         3.0           2.0   \n",
              "201         -1           4.553877  21.0        1.0         3.0           2.0   \n",
              "202         -1           4.553877  21.0        1.0         3.0           2.0   \n",
              "203         -1           4.553877  21.0        0.0         3.0           2.0   \n",
              "204         -1           4.553877  21.0        1.0         3.0           2.0   \n",
              "\n",
              "     engine-location  width  height  engine-type  engine-size  horsepower  \\\n",
              "0                0.0   64.1    48.8          0.0          130       111.0   \n",
              "1                0.0   64.1    48.8          0.0          130       111.0   \n",
              "2                0.0   65.5    52.4          5.0          152       154.0   \n",
              "3                0.0   66.2    54.3          3.0          109       102.0   \n",
              "4                0.0   66.4    54.3          3.0          136       115.0   \n",
              "..               ...    ...     ...          ...          ...         ...   \n",
              "200              0.0   68.9    55.5          3.0          141       114.0   \n",
              "201              0.0   68.8    55.5          3.0          141       160.0   \n",
              "202              0.0   68.9    55.5          5.0          173       134.0   \n",
              "203              0.0   68.9    55.5          3.0          145       106.0   \n",
              "204              0.0   68.9    55.5          3.0          141       114.0   \n",
              "\n",
              "     city-mpg  highway-mpg  \n",
              "0          21           27  \n",
              "1          21           27  \n",
              "2          19           26  \n",
              "3          24           30  \n",
              "4          18           22  \n",
              "..        ...          ...  \n",
              "200        23           28  \n",
              "201        19           25  \n",
              "202        18           23  \n",
              "203        26           27  \n",
              "204        19           25  \n",
              "\n",
              "[192 rows x 14 columns]"
            ],
            "text/html": [
              "\n",
              "  <div id=\"df-2f27b05c-89d5-4254-b95d-a12ab85c8d95\">\n",
              "    <div class=\"colab-df-container\">\n",
              "      <div>\n",
              "<style scoped>\n",
              "    .dataframe tbody tr th:only-of-type {\n",
              "        vertical-align: middle;\n",
              "    }\n",
              "\n",
              "    .dataframe tbody tr th {\n",
              "        vertical-align: top;\n",
              "    }\n",
              "\n",
              "    .dataframe thead th {\n",
              "        text-align: right;\n",
              "    }\n",
              "</style>\n",
              "<table border=\"1\" class=\"dataframe\">\n",
              "  <thead>\n",
              "    <tr style=\"text-align: right;\">\n",
              "      <th></th>\n",
              "      <th>symboling</th>\n",
              "      <th>normalized-losses</th>\n",
              "      <th>make</th>\n",
              "      <th>fuel-type</th>\n",
              "      <th>body-style</th>\n",
              "      <th>drive-wheels</th>\n",
              "      <th>engine-location</th>\n",
              "      <th>width</th>\n",
              "      <th>height</th>\n",
              "      <th>engine-type</th>\n",
              "      <th>engine-size</th>\n",
              "      <th>horsepower</th>\n",
              "      <th>city-mpg</th>\n",
              "      <th>highway-mpg</th>\n",
              "    </tr>\n",
              "  </thead>\n",
              "  <tbody>\n",
              "    <tr>\n",
              "      <th>0</th>\n",
              "      <td>3</td>\n",
              "      <td>4.804021</td>\n",
              "      <td>0.0</td>\n",
              "      <td>1.0</td>\n",
              "      <td>0.0</td>\n",
              "      <td>2.0</td>\n",
              "      <td>0.0</td>\n",
              "      <td>64.1</td>\n",
              "      <td>48.8</td>\n",
              "      <td>0.0</td>\n",
              "      <td>130</td>\n",
              "      <td>111.0</td>\n",
              "      <td>21</td>\n",
              "      <td>27</td>\n",
              "    </tr>\n",
              "    <tr>\n",
              "      <th>1</th>\n",
              "      <td>3</td>\n",
              "      <td>4.804021</td>\n",
              "      <td>0.0</td>\n",
              "      <td>1.0</td>\n",
              "      <td>0.0</td>\n",
              "      <td>2.0</td>\n",
              "      <td>0.0</td>\n",
              "      <td>64.1</td>\n",
              "      <td>48.8</td>\n",
              "      <td>0.0</td>\n",
              "      <td>130</td>\n",
              "      <td>111.0</td>\n",
              "      <td>21</td>\n",
              "      <td>27</td>\n",
              "    </tr>\n",
              "    <tr>\n",
              "      <th>2</th>\n",
              "      <td>1</td>\n",
              "      <td>4.804021</td>\n",
              "      <td>0.0</td>\n",
              "      <td>1.0</td>\n",
              "      <td>2.0</td>\n",
              "      <td>2.0</td>\n",
              "      <td>0.0</td>\n",
              "      <td>65.5</td>\n",
              "      <td>52.4</td>\n",
              "      <td>5.0</td>\n",
              "      <td>152</td>\n",
              "      <td>154.0</td>\n",
              "      <td>19</td>\n",
              "      <td>26</td>\n",
              "    </tr>\n",
              "    <tr>\n",
              "      <th>3</th>\n",
              "      <td>2</td>\n",
              "      <td>5.099866</td>\n",
              "      <td>1.0</td>\n",
              "      <td>1.0</td>\n",
              "      <td>3.0</td>\n",
              "      <td>1.0</td>\n",
              "      <td>0.0</td>\n",
              "      <td>66.2</td>\n",
              "      <td>54.3</td>\n",
              "      <td>3.0</td>\n",
              "      <td>109</td>\n",
              "      <td>102.0</td>\n",
              "      <td>24</td>\n",
              "      <td>30</td>\n",
              "    </tr>\n",
              "    <tr>\n",
              "      <th>4</th>\n",
              "      <td>2</td>\n",
              "      <td>5.099866</td>\n",
              "      <td>1.0</td>\n",
              "      <td>1.0</td>\n",
              "      <td>3.0</td>\n",
              "      <td>0.0</td>\n",
              "      <td>0.0</td>\n",
              "      <td>66.4</td>\n",
              "      <td>54.3</td>\n",
              "      <td>3.0</td>\n",
              "      <td>136</td>\n",
              "      <td>115.0</td>\n",
              "      <td>18</td>\n",
              "      <td>22</td>\n",
              "    </tr>\n",
              "    <tr>\n",
              "      <th>...</th>\n",
              "      <td>...</td>\n",
              "      <td>...</td>\n",
              "      <td>...</td>\n",
              "      <td>...</td>\n",
              "      <td>...</td>\n",
              "      <td>...</td>\n",
              "      <td>...</td>\n",
              "      <td>...</td>\n",
              "      <td>...</td>\n",
              "      <td>...</td>\n",
              "      <td>...</td>\n",
              "      <td>...</td>\n",
              "      <td>...</td>\n",
              "      <td>...</td>\n",
              "    </tr>\n",
              "    <tr>\n",
              "      <th>200</th>\n",
              "      <td>-1</td>\n",
              "      <td>4.553877</td>\n",
              "      <td>21.0</td>\n",
              "      <td>1.0</td>\n",
              "      <td>3.0</td>\n",
              "      <td>2.0</td>\n",
              "      <td>0.0</td>\n",
              "      <td>68.9</td>\n",
              "      <td>55.5</td>\n",
              "      <td>3.0</td>\n",
              "      <td>141</td>\n",
              "      <td>114.0</td>\n",
              "      <td>23</td>\n",
              "      <td>28</td>\n",
              "    </tr>\n",
              "    <tr>\n",
              "      <th>201</th>\n",
              "      <td>-1</td>\n",
              "      <td>4.553877</td>\n",
              "      <td>21.0</td>\n",
              "      <td>1.0</td>\n",
              "      <td>3.0</td>\n",
              "      <td>2.0</td>\n",
              "      <td>0.0</td>\n",
              "      <td>68.8</td>\n",
              "      <td>55.5</td>\n",
              "      <td>3.0</td>\n",
              "      <td>141</td>\n",
              "      <td>160.0</td>\n",
              "      <td>19</td>\n",
              "      <td>25</td>\n",
              "    </tr>\n",
              "    <tr>\n",
              "      <th>202</th>\n",
              "      <td>-1</td>\n",
              "      <td>4.553877</td>\n",
              "      <td>21.0</td>\n",
              "      <td>1.0</td>\n",
              "      <td>3.0</td>\n",
              "      <td>2.0</td>\n",
              "      <td>0.0</td>\n",
              "      <td>68.9</td>\n",
              "      <td>55.5</td>\n",
              "      <td>5.0</td>\n",
              "      <td>173</td>\n",
              "      <td>134.0</td>\n",
              "      <td>18</td>\n",
              "      <td>23</td>\n",
              "    </tr>\n",
              "    <tr>\n",
              "      <th>203</th>\n",
              "      <td>-1</td>\n",
              "      <td>4.553877</td>\n",
              "      <td>21.0</td>\n",
              "      <td>0.0</td>\n",
              "      <td>3.0</td>\n",
              "      <td>2.0</td>\n",
              "      <td>0.0</td>\n",
              "      <td>68.9</td>\n",
              "      <td>55.5</td>\n",
              "      <td>3.0</td>\n",
              "      <td>145</td>\n",
              "      <td>106.0</td>\n",
              "      <td>26</td>\n",
              "      <td>27</td>\n",
              "    </tr>\n",
              "    <tr>\n",
              "      <th>204</th>\n",
              "      <td>-1</td>\n",
              "      <td>4.553877</td>\n",
              "      <td>21.0</td>\n",
              "      <td>1.0</td>\n",
              "      <td>3.0</td>\n",
              "      <td>2.0</td>\n",
              "      <td>0.0</td>\n",
              "      <td>68.9</td>\n",
              "      <td>55.5</td>\n",
              "      <td>3.0</td>\n",
              "      <td>141</td>\n",
              "      <td>114.0</td>\n",
              "      <td>19</td>\n",
              "      <td>25</td>\n",
              "    </tr>\n",
              "  </tbody>\n",
              "</table>\n",
              "<p>192 rows × 14 columns</p>\n",
              "</div>\n",
              "      <button class=\"colab-df-convert\" onclick=\"convertToInteractive('df-2f27b05c-89d5-4254-b95d-a12ab85c8d95')\"\n",
              "              title=\"Convert this dataframe to an interactive table.\"\n",
              "              style=\"display:none;\">\n",
              "        \n",
              "  <svg xmlns=\"http://www.w3.org/2000/svg\" height=\"24px\"viewBox=\"0 0 24 24\"\n",
              "       width=\"24px\">\n",
              "    <path d=\"M0 0h24v24H0V0z\" fill=\"none\"/>\n",
              "    <path d=\"M18.56 5.44l.94 2.06.94-2.06 2.06-.94-2.06-.94-.94-2.06-.94 2.06-2.06.94zm-11 1L8.5 8.5l.94-2.06 2.06-.94-2.06-.94L8.5 2.5l-.94 2.06-2.06.94zm10 10l.94 2.06.94-2.06 2.06-.94-2.06-.94-.94-2.06-.94 2.06-2.06.94z\"/><path d=\"M17.41 7.96l-1.37-1.37c-.4-.4-.92-.59-1.43-.59-.52 0-1.04.2-1.43.59L10.3 9.45l-7.72 7.72c-.78.78-.78 2.05 0 2.83L4 21.41c.39.39.9.59 1.41.59.51 0 1.02-.2 1.41-.59l7.78-7.78 2.81-2.81c.8-.78.8-2.07 0-2.86zM5.41 20L4 18.59l7.72-7.72 1.47 1.35L5.41 20z\"/>\n",
              "  </svg>\n",
              "      </button>\n",
              "      \n",
              "  <style>\n",
              "    .colab-df-container {\n",
              "      display:flex;\n",
              "      flex-wrap:wrap;\n",
              "      gap: 12px;\n",
              "    }\n",
              "\n",
              "    .colab-df-convert {\n",
              "      background-color: #E8F0FE;\n",
              "      border: none;\n",
              "      border-radius: 50%;\n",
              "      cursor: pointer;\n",
              "      display: none;\n",
              "      fill: #1967D2;\n",
              "      height: 32px;\n",
              "      padding: 0 0 0 0;\n",
              "      width: 32px;\n",
              "    }\n",
              "\n",
              "    .colab-df-convert:hover {\n",
              "      background-color: #E2EBFA;\n",
              "      box-shadow: 0px 1px 2px rgba(60, 64, 67, 0.3), 0px 1px 3px 1px rgba(60, 64, 67, 0.15);\n",
              "      fill: #174EA6;\n",
              "    }\n",
              "\n",
              "    [theme=dark] .colab-df-convert {\n",
              "      background-color: #3B4455;\n",
              "      fill: #D2E3FC;\n",
              "    }\n",
              "\n",
              "    [theme=dark] .colab-df-convert:hover {\n",
              "      background-color: #434B5C;\n",
              "      box-shadow: 0px 1px 3px 1px rgba(0, 0, 0, 0.15);\n",
              "      filter: drop-shadow(0px 1px 2px rgba(0, 0, 0, 0.3));\n",
              "      fill: #FFFFFF;\n",
              "    }\n",
              "  </style>\n",
              "\n",
              "      <script>\n",
              "        const buttonEl =\n",
              "          document.querySelector('#df-2f27b05c-89d5-4254-b95d-a12ab85c8d95 button.colab-df-convert');\n",
              "        buttonEl.style.display =\n",
              "          google.colab.kernel.accessAllowed ? 'block' : 'none';\n",
              "\n",
              "        async function convertToInteractive(key) {\n",
              "          const element = document.querySelector('#df-2f27b05c-89d5-4254-b95d-a12ab85c8d95');\n",
              "          const dataTable =\n",
              "            await google.colab.kernel.invokeFunction('convertToInteractive',\n",
              "                                                     [key], {});\n",
              "          if (!dataTable) return;\n",
              "\n",
              "          const docLinkHtml = 'Like what you see? Visit the ' +\n",
              "            '<a target=\"_blank\" href=https://colab.research.google.com/notebooks/data_table.ipynb>data table notebook</a>'\n",
              "            + ' to learn more about interactive tables.';\n",
              "          element.innerHTML = '';\n",
              "          dataTable['output_type'] = 'display_data';\n",
              "          await google.colab.output.renderOutput(dataTable, element);\n",
              "          const docLink = document.createElement('div');\n",
              "          docLink.innerHTML = docLinkHtml;\n",
              "          element.appendChild(docLink);\n",
              "        }\n",
              "      </script>\n",
              "    </div>\n",
              "  </div>\n",
              "  "
            ]
          },
          "metadata": {},
          "execution_count": 57
        }
      ]
    },
    {
      "cell_type": "code",
      "source": [],
      "metadata": {
        "id": "bllGi0FqMN_q"
      },
      "execution_count": null,
      "outputs": []
    }
  ],
  "metadata": {
    "colab": {
      "provenance": []
    },
    "kernelspec": {
      "display_name": "Python 3",
      "name": "python3"
    },
    "language_info": {
      "name": "python"
    }
  },
  "nbformat": 4,
  "nbformat_minor": 0
}